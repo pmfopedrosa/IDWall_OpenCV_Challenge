{
 "cells": [
  {
   "cell_type": "code",
   "execution_count": 1,
   "metadata": {
    "collapsed": true
   },
   "outputs": [],
   "source": [
    "import cv2\n",
    "import numpy as np\n",
    "\n",
    "# read original BRG image\n",
    "image = cv2.imread('files/shapes_leo.jpg',1)\n",
    "# convert to grayscale for threshold operation\n",
    "image_gray = cv2.cvtColor(image,cv2.COLOR_BGR2GRAY)\n",
    "# convert image to black and white\n",
    "ret,image_bw = cv2.threshold(image_gray, 125, 255, cv2.THRESH_BINARY_INV)\n",
    "# create kernel of erosion/dilation\n",
    "kernel = np.ones((10,10),np.uint8)\n",
    "# Close to simplify background \n",
    "closing = cv2.morphologyEx(image_bw, cv2.MORPH_CLOSE, kernel)\n",
    "# convert back to BRG\n",
    "closing = cv2.cvtColor(closing,cv2.COLOR_GRAY2BGR)\n",
    "# get the original image without the background\n",
    "mask = closing.copy()\n",
    "masked_image=cv2.add(image,mask)\n",
    "# convert to grayscale for Hough transform\n",
    "masked_image_gray = cv2.cvtColor(masked_image,cv2.COLOR_BGR2GRAY)\n",
    "# Gaussian blur for making edges smooth and remove high-frequency noise\n",
    "blurred_image = cv2.GaussianBlur(masked_image_gray, (7,7), 0)\n",
    "# perform Hough transform for detecting circles\n",
    "circles  = cv2.HoughCircles(blurred_image, cv2.HOUGH_GRADIENT, 1, 20, param1=50, param2=30, minRadius=10, maxRadius=100)\n",
    "\n",
    "if circles is None:\n",
    "        \n",
    "    print('No circles detected')\n",
    "        \n",
    "else:\n",
    "\n",
    "    # Trace circles on processed image\n",
    "    image_proc = masked_image.copy()\n",
    "    DetectedCircles = False\n",
    "    for i in circles[0,:]:\n",
    "    \n",
    "        if i[2]<10: \n",
    "    \n",
    "            # print radius less than 10 message\n",
    "            print('Circle has radius less than 10')\n",
    "            continue\n",
    "                \n",
    "        else:\n",
    "        \n",
    "            DetectedCircles = True\n",
    "            \n",
    "            #draw the outer circle\n",
    "            cv2.circle(image_proc, (i[0], i[1]), i[2], (255,0,0), 2)\n",
    "    \n",
    "            #draw the center of the circle\n",
    "            cv2.circle(image_proc, (i[0], i[1]), 2, (255,0,0), 3)\n",
    "\n",
    "            \n",
    "if DetectedCircles is True:\n",
    "      \n",
    "        image_out = np.concatenate((image, image_proc), axis=1)\n",
    "        cv2.imshow('Original and Processed Images',image_out)\n",
    "        cv2.waitKey(0)\n",
    "        cv2.destroyAllWindows()\n",
    "        \n",
    "elif DetectedCircles is False:\n",
    "    \n",
    "    print('No circle with radius greater than 10 has been found')\n"
   ]
  },
  {
   "cell_type": "code",
   "execution_count": null,
   "metadata": {
    "collapsed": true
   },
   "outputs": [],
   "source": []
  }
 ],
 "metadata": {
  "kernelspec": {
   "display_name": "Python 3",
   "language": "python",
   "name": "python3"
  },
  "language_info": {
   "codemirror_mode": {
    "name": "ipython",
    "version": 3
   },
   "file_extension": ".py",
   "mimetype": "text/x-python",
   "name": "python",
   "nbconvert_exporter": "python",
   "pygments_lexer": "ipython3",
   "version": "3.6.1"
  }
 },
 "nbformat": 4,
 "nbformat_minor": 2
}
